{
  "cells": [
    {
      "cell_type": "code",
      "execution_count": 1,
      "id": "3440ca42",
      "metadata": {
        "colab": {
          "base_uri": "https://localhost:8080/"
        },
        "id": "3440ca42",
        "outputId": "631ba318-41e5-4966-ee04-528ac67d6221"
      },
      "outputs": [
        {
          "output_type": "stream",
          "name": "stderr",
          "text": [
            "[nltk_data] Downloading package words to /root/nltk_data...\n",
            "[nltk_data]   Unzipping corpora/words.zip.\n"
          ]
        }
      ],
      "source": [
        "import nltk\n",
        "nltk.download('words')\n",
        "from nltk.corpus import words\n",
        "word_list = [x for x in words.words() if len(x)==5]"
      ]
    },
    {
      "cell_type": "code",
      "execution_count": 4,
      "id": "0e5d796b",
      "metadata": {
        "colab": {
          "base_uri": "https://localhost:8080/"
        },
        "id": "0e5d796b",
        "outputId": "dbcd057b-fe0a-42dc-aeba-23af4b59ba48"
      },
      "outputs": [
        {
          "output_type": "stream",
          "name": "stdout",
          "text": [
            "Enter the word that WORDLE should guess: hello\n",
            "media : ['N', 'G', 'N', 'N', 'N']\n",
            "jetty : ['N', 'G', 'N', 'N', 'N']\n",
            "reesk : ['N', 'G', 'Y', 'N', 'N']\n",
            "belch : ['N', 'G', 'G', 'N', 'Y']\n",
            "helge : ['G', 'G', 'G', 'N', 'Y']\n",
            "hello : ['G', 'G', 'G', 'G', 'G']\n",
            "It took 6 tries to find 'hello'.\n",
            "\n"
          ]
        }
      ],
      "source": [
        "from nltk.corpus import words\n",
        "import random\n",
        "\n",
        "word_list = [x.lower() for x in words.words() if len(x) == 5]\n",
        "alphabet = [\n",
        "    \"a\", \"b\", \"c\", \"d\", \"e\", \"f\", \"g\", \"h\", \"i\", \"j\", \"k\", \"l\", \"m\", \"n\", \"o\", \"p\",\n",
        "    \"q\", \"r\", \"s\", \"t\", \"u\", \"v\", \"w\", \"x\", \"y\", \"z\"\n",
        "]\n",
        "\n",
        "# Define the list of starting words\n",
        "starting_words = [\n",
        "    \"react\", \"adieu\", \"later\", \"sired\", \"tears\", \"alone\", \"arise\",\n",
        "    \"about\", \"atone\", \"irate\", \"snare\", \"cream\", \"paint\", \"worse\",\n",
        "    \"sauce\", \"anime\", \"prowl\", \"roast\", \"drape\", \"media\"\n",
        "]\n",
        "\n",
        "# Filter starting words based on vowel presence\n",
        "#starting_words = [word for word in starting_words if any(c in word for c in \"aeiou\")]\n",
        "\n",
        "def frequencyList():\n",
        "    letterDict={}\n",
        "    for word in word_list:\n",
        "        for letter in word:\n",
        "            letter=letter.lower()\n",
        "            if letter in letterDict:\n",
        "                letterDict[letter] += 1\n",
        "            else:\n",
        "                letterDict[letter] = 1\n",
        "    for letter in alphabet:\n",
        "        print(letter.capitalize(),\",\",letterDict[letter])\n",
        "\n",
        "def powerList():\n",
        "    letterDict={}\n",
        "    powerList=[]\n",
        "    for word in word_list:\n",
        "        for letter in word:\n",
        "            letter=letter.lower()\n",
        "            if letter in letterDict:\n",
        "                letterDict[letter] += 1\n",
        "            else:\n",
        "                letterDict[letter] = 1\n",
        "    for word in word_list:\n",
        "        power=0\n",
        "        if len(list(dict.fromkeys(word)))==len(word):\n",
        "            for letter in word:\n",
        "                power+=letterDict[letter]\n",
        "            powerList.append([word,power])\n",
        "    powerList.sort(key = lambda x: x[1],reverse=True)\n",
        "    return powerList\n",
        "\n",
        "def randomWord(wordlist):\n",
        "    randomWord=random.choice(wordlist)\n",
        "    return randomWord\n",
        "\n",
        "def result(word,guess):\n",
        "    result=[]\n",
        "    for index in range(len(guess)):\n",
        "        if guess[index]==word[index]:\n",
        "            result.append(\"G\")\n",
        "        elif guess[index] in word:\n",
        "            result.append(\"Y\")\n",
        "        else:\n",
        "            result.append(\"N\")\n",
        "    return result\n",
        "def modifyKnowledge(chosen,guess,knowledge):\n",
        "    if knowledge=={}:\n",
        "        knowledge[\"letters\"]={}\n",
        "        knowledge[\"must\"]=[]\n",
        "        for _ in range(len(guess)):\n",
        "                knowledge[\"letters\"][_]=alphabet.copy()\n",
        "    results=result(chosen,guess)\n",
        "    for index in range(len(results)):\n",
        "        if results[index]==\"G\":\n",
        "            knowledge[\"letters\"][index]=[guess[index]]\n",
        "            if guess[index] not in knowledge[\"must\"]:\n",
        "                knowledge[\"must\"].append(guess[index])\n",
        "        elif results[index]==\"Y\":\n",
        "            knowledge[\"letters\"][index].remove(guess[index])\n",
        "            if guess[index] not in knowledge[\"must\"]:\n",
        "                knowledge[\"must\"].append(guess[index])\n",
        "        elif results[index]==\"N\":\n",
        "            for _ in range(len(guess)):\n",
        "                if guess[index] in knowledge[\"letters\"][_]:\n",
        "                    knowledge[\"letters\"][_].remove(guess[index])\n",
        "    return knowledge,results\n",
        "\n",
        "def modifyRemaining(chosen,guess,knowledge):\n",
        "    remaining=[]\n",
        "\n",
        "    knowledge,results=modifyKnowledge(chosen,guess,knowledge)\n",
        "    for word in word_list:\n",
        "        possible=True\n",
        "        for index in range(len(word)):\n",
        "            letter=word[index]\n",
        "            if letter not in knowledge[\"letters\"][index]:\n",
        "                possible=False\n",
        "        for letter in knowledge[\"must\"]:\n",
        "            if letter not in word:\n",
        "                possible=False\n",
        "        if possible:\n",
        "            remaining.append(word)\n",
        "    return remaining,knowledge,results\n",
        "\n",
        "def play():\n",
        "\n",
        "    word = input(\"Enter the word that WORDLE should guess: \")\n",
        "\n",
        "    # Choose a random starting word\n",
        "    guess = random.choice(starting_words)\n",
        "\n",
        "    if word == \"r\":\n",
        "        word = randomWord(word_list)\n",
        "    results = []\n",
        "    tries = 1\n",
        "    triedWords = []\n",
        "    knowledge = {}\n",
        "    working = True\n",
        "    while working:\n",
        "        guesslist, knowledge, results = modifyRemaining(word, guess, knowledge)\n",
        "        print(guess, \":\", results)\n",
        "        if results == [\"G\", \"G\", \"G\", \"G\", \"G\"]:\n",
        "            working = False\n",
        "        else:\n",
        "            guess = randomWord(guesslist)\n",
        "            while guess in triedWords:\n",
        "                guesslist.remove(guess)\n",
        "                guess = randomWord(guesslist)\n",
        "            triedWords.append(guess)\n",
        "            tries += 1\n",
        "    print(\"It took \" + str(tries) + \" tries to find '\" + word + \"'.\\n\")\n",
        "\n",
        "play()\n"
      ]
    }
  ],
  "metadata": {
    "kernelspec": {
      "display_name": "Python 3 (ipykernel)",
      "language": "python",
      "name": "python3"
    },
    "language_info": {
      "codemirror_mode": {
        "name": "ipython",
        "version": 3
      },
      "file_extension": ".py",
      "mimetype": "text/x-python",
      "name": "python",
      "nbconvert_exporter": "python",
      "pygments_lexer": "ipython3",
      "version": "3.10.9"
    },
    "colab": {
      "provenance": []
    }
  },
  "nbformat": 4,
  "nbformat_minor": 5
}